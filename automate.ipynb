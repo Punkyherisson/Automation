{
  "nbformat": 4,
  "nbformat_minor": 0,
  "metadata": {
    "colab": {
      "provenance": [],
      "authorship_tag": "ABX9TyOzWdHLTLD2rjWXXOLI9d54",
      "include_colab_link": true
    },
    "kernelspec": {
      "name": "python3",
      "display_name": "Python 3"
    },
    "language_info": {
      "name": "python"
    }
  },
  "cells": [
    {
      "cell_type": "markdown",
      "metadata": {
        "id": "view-in-github",
        "colab_type": "text"
      },
      "source": [
        "<a href=\"https://colab.research.google.com/github/Punkyherisson/Automation/blob/main/automate.ipynb\" target=\"_parent\"><img src=\"https://colab.research.google.com/assets/colab-badge.svg\" alt=\"Open In Colab\"/></a>"
      ]
    },
    {
      "cell_type": "markdown",
      "source": [
        "Automate the Boring Stuff with Python: Practical Programming for Total Beginners, 3rd Edition (https://colt.percipio.com/books/164fc749-1063-490b-8812-7e73612effb4)."
      ],
      "metadata": {
        "id": "Lw0ZT4R574An"
      }
    },
    {
      "cell_type": "markdown",
      "source": [
        "If you can’t find the answer by searching online, try asking people in a web forum such as Stack Overflow (https://stackoverflow.com) Copy and paste the entire error message and your code to https://pastebin.com or https://gist.github.com. These websites make it easy to share large amounts of code with people online, without losing any text formatting.\n"
      ],
      "metadata": {
        "id": "OFAnYu2kdKnL"
      }
    },
    {
      "cell_type": "markdown",
      "source": [
        "New to the Third Edition\n",
        "This fully revised and updated edition includes 16 new programming projects so you can practice the skills you’ll learn. You’ll find a complete introduction to SQLite and relational databases with Python’s sqlite3 module. You’ll explore how to compile Python scripts into executable programs on Windows, macOS, and Linus; and create command line programs and run them. You’ll also learn how to perform PDF operations with PyPDF and PdfMiner, use Playwright in addition to Selenium to control web browsers, make your programs talk with text-to-speech libraries, use OpenAI’s Whisper library to create text transcriptions from audio and video files, extract text from images with PyTesseract, create graphs with matplotlib, and more.\n"
      ],
      "metadata": {
        "id": "BC9jRgfJqDoN"
      }
    },
    {
      "cell_type": "code",
      "execution_count": null,
      "metadata": {
        "id": "ONyaUYJoh9PI",
        "colab": {
          "base_uri": "https://localhost:8080/"
        },
        "outputId": "a6fa61c0-d54c-45ce-b548-1e5e16dac275"
      },
      "outputs": [
        {
          "output_type": "stream",
          "name": "stdout",
          "text": [
            "Hello, world!\n",
            "What is your name?\n",
            ">Manu\n",
            "It is good to meet you, Manu\n",
            "The length of your name is:\n",
            "4\n",
            "What is your age?\n",
            ">60\n",
            "You will be 61 in a year.\n"
          ]
        }
      ],
      "source": [
        "# This program says hello and asks for my name.\n",
        "\n",
        "print('Hello, world!')\n",
        "print('What is your name?')  # Ask for their name.\n",
        "my_name = input('>')\n",
        "print('It is good to meet you, ' + my_name)\n",
        "print('The length of your name is:')\n",
        "print(len(my_name))\n",
        "print('What is your age?')  # Ask for their age.\n",
        "my_age = input('>')\n",
        "print('You will be ' + str(int(my_age) + 1) + ' in a year.')"
      ]
    }
  ]
}