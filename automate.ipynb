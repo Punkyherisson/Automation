{
  "nbformat": 4,
  "nbformat_minor": 0,
  "metadata": {
    "colab": {
      "provenance": [],
      "authorship_tag": "ABX9TyN9mBXALJS8D7kthasJpVHR",
      "include_colab_link": true
    },
    "kernelspec": {
      "name": "python3",
      "display_name": "Python 3"
    },
    "language_info": {
      "name": "python"
    }
  },
  "cells": [
    {
      "cell_type": "markdown",
      "metadata": {
        "id": "view-in-github",
        "colab_type": "text"
      },
      "source": [
        "<a href=\"https://colab.research.google.com/github/Punkyherisson/Automation/blob/main/automate.ipynb\" target=\"_parent\"><img src=\"https://colab.research.google.com/assets/colab-badge.svg\" alt=\"Open In Colab\"/></a>"
      ]
    },
    {
      "cell_type": "markdown",
      "source": [
        "Automate the Boring Stuff with Python: Practical Programming for Total Beginners, 3rd Edition (https://colt.percipio.com/books/164fc749-1063-490b-8812-7e73612effb4)."
      ],
      "metadata": {
        "id": "Lw0ZT4R574An"
      }
    },
    {
      "cell_type": "markdown",
      "source": [
        "If you can’t find the answer by searching online, try asking people in a web forum such as Stack Overflow (https://stackoverflow.com) Copy and paste the entire error message and your code to https://pastebin.com or https://gist.github.com. These websites make it easy to share large amounts of code with people online, without losing any text formatting.\n"
      ],
      "metadata": {
        "id": "OFAnYu2kdKnL"
      }
    },
    {
      "cell_type": "markdown",
      "source": [
        "New to the Third Edition\n",
        "This fully revised and updated edition includes 16 new programming projects so you can practice the skills you’ll learn. You’ll find a complete introduction to SQLite and relational databases with Python’s sqlite3 module. You’ll explore how to compile Python scripts into executable programs on Windows, macOS, and Linus; and create command line programs and run them. You’ll also learn how to perform PDF operations with PyPDF and PdfMiner, use Playwright in addition to Selenium to control web browsers, make your programs talk with text-to-speech libraries, use OpenAI’s Whisper library to create text transcriptions from audio and video files, extract text from images with PyTesseract, create graphs with matplotlib, and more.\n"
      ],
      "metadata": {
        "id": "BC9jRgfJqDoN"
      }
    },
    {
      "cell_type": "code",
      "execution_count": null,
      "metadata": {
        "id": "ONyaUYJoh9PI",
        "colab": {
          "base_uri": "https://localhost:8080/"
        },
        "outputId": "fc804227-633d-4444-baa9-0630d037dce1"
      },
      "outputs": [
        {
          "output_type": "stream",
          "name": "stdout",
          "text": [
            "Hello world\n"
          ]
        }
      ],
      "source": [
        "print(\"Hello world\")"
      ]
    }
  ]
}