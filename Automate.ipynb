{
  "nbformat": 4,
  "nbformat_minor": 0,
  "metadata": {
    "colab": {
      "provenance": [],
      "authorship_tag": "ABX9TyNGhBAnIdPrOJc7nQFSPgWk",
      "include_colab_link": true
    },
    "kernelspec": {
      "name": "python3",
      "display_name": "Python 3"
    },
    "language_info": {
      "name": "python"
    }
  },
  "cells": [
    {
      "cell_type": "markdown",
      "metadata": {
        "id": "view-in-github",
        "colab_type": "text"
      },
      "source": [
        "<a href=\"https://colab.research.google.com/github/Punkyherisson/Automation/blob/main/Automate.ipynb\" target=\"_parent\"><img src=\"https://colab.research.google.com/assets/colab-badge.svg\" alt=\"Open In Colab\"/></a>"
      ]
    },
    {
      "cell_type": "markdown",
      "source": [
        "Automate the Boring Stuff with Python: Practical Programming for Total Beginners, 3rd Edition (https://colt.percipio.com/books/164fc749-1063-490b-8812-7e73612effb4)."
      ],
      "metadata": {
        "id": "Lw0ZT4R574An"
      }
    },
    {
      "cell_type": "markdown",
      "source": [
        "Learn AI-Assisted Python Programming, Second Edition;https://colt.percipio.com/books/53bb108d-baf0-4ab4-92be-d57bb7e41691\n"
      ],
      "metadata": {
        "id": "1tzwIptiE1Rv"
      }
    },
    {
      "cell_type": "markdown",
      "source": [
        "PowerShell in 7 Days: Learn essential skills in scripting and automation using PowerShell"
      ],
      "metadata": {
        "id": "uv86cpu7Lc2P"
      }
    },
    {
      "cell_type": "code",
      "source": [],
      "metadata": {
        "id": "jP43bv95E9Ve"
      },
      "execution_count": null,
      "outputs": []
    },
    {
      "cell_type": "code",
      "execution_count": null,
      "metadata": {
        "id": "ONyaUYJoh9PI"
      },
      "outputs": [],
      "source": []
    }
  ]
}